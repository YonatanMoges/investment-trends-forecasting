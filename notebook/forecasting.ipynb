{
 "cells": [
  {
   "cell_type": "code",
   "execution_count": 6,
   "metadata": {},
   "outputs": [],
   "source": [
    "import pandas as pd\n",
    "import sys\n",
    "sys.path.append('../scripts')\n",
    "\n",
    "from forecasting import LSTMForecast"
   ]
  },
  {
   "cell_type": "code",
   "execution_count": 8,
   "metadata": {},
   "outputs": [],
   "source": [
    "# Load historical Tesla stock data\n",
    "data = pd.read_csv('../data/TSLA_processed.csv')\n",
    "\n",
    "# Path to the saved LSTM model\n",
    "model_path = '../models/LSTM_model.h5'"
   ]
  }
 ],
 "metadata": {
  "language_info": {
   "name": "python"
  }
 },
 "nbformat": 4,
 "nbformat_minor": 2
}
