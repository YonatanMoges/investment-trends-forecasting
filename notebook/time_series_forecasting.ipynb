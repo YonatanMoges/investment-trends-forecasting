{
 "cells": [
  {
   "cell_type": "code",
   "execution_count": 1,
   "metadata": {},
   "outputs": [],
   "source": [
    "import sys\n",
    "sys.path.append('../scripts')\n",
    "\n",
    "from time_series_models import TimeSeriesForecasting"
   ]
  },
  {
   "cell_type": "markdown",
   "metadata": {},
   "source": [
    "Load the Data"
   ]
  },
  {
   "cell_type": "code",
   "execution_count": 2,
   "metadata": {},
   "outputs": [
    {
     "name": "stdout",
     "output_type": "stream",
     "text": [
      "Columns in dataset: Index(['Price', 'Adj Close', 'Close', 'High', 'Low', 'Open', 'Volume',\n",
      "       'Normalized Close'],\n",
      "      dtype='object')\n"
     ]
    }
   ],
   "source": [
    "file_path = '../data/TSLA_processed.csv'\n",
    "ts_forecasting = TimeSeriesForecasting(file_path)"
   ]
  },
  {
   "cell_type": "markdown",
   "metadata": {},
   "source": [
    "Split the Data into Training and Testing Sets"
   ]
  },
  {
   "cell_type": "code",
   "execution_count": 3,
   "metadata": {},
   "outputs": [
    {
     "name": "stdout",
     "output_type": "stream",
     "text": [
      "Data split into train and test sets.\n"
     ]
    }
   ],
   "source": [
    "ts_forecasting.split_data()"
   ]
  },
  {
   "cell_type": "markdown",
   "metadata": {},
   "source": [
    "Train and Evaluate ARIMA Model"
   ]
  },
  {
   "cell_type": "code",
   "execution_count": 4,
   "metadata": {},
   "outputs": [
    {
     "name": "stdout",
     "output_type": "stream",
     "text": [
      "Performing stepwise search to minimize aic\n",
      " ARIMA(2,1,2)(0,0,0)[0] intercept   : AIC=11807.105, Time=1.30 sec\n",
      " ARIMA(0,1,0)(0,0,0)[0] intercept   : AIC=11884.552, Time=0.03 sec\n",
      " ARIMA(1,1,0)(0,0,0)[0] intercept   : AIC=11832.018, Time=0.09 sec\n",
      " ARIMA(0,1,1)(0,0,0)[0] intercept   : AIC=11821.288, Time=0.18 sec\n",
      " ARIMA(0,1,0)(0,0,0)[0]             : AIC=11883.249, Time=0.01 sec\n",
      " ARIMA(1,1,2)(0,0,0)[0] intercept   : AIC=11817.399, Time=0.37 sec\n",
      " ARIMA(2,1,1)(0,0,0)[0] intercept   : AIC=11816.584, Time=0.43 sec\n",
      " ARIMA(3,1,2)(0,0,0)[0] intercept   : AIC=11817.506, Time=0.96 sec\n",
      " ARIMA(2,1,3)(0,0,0)[0] intercept   : AIC=11814.148, Time=1.59 sec\n",
      " ARIMA(1,1,1)(0,0,0)[0] intercept   : AIC=11817.551, Time=0.25 sec\n",
      " ARIMA(1,1,3)(0,0,0)[0] intercept   : AIC=11818.682, Time=0.83 sec\n",
      " ARIMA(3,1,1)(0,0,0)[0] intercept   : AIC=11815.761, Time=0.76 sec\n",
      " ARIMA(3,1,3)(0,0,0)[0] intercept   : AIC=11818.718, Time=1.48 sec\n",
      " ARIMA(2,1,2)(0,0,0)[0]             : AIC=11805.719, Time=0.60 sec\n",
      " ARIMA(1,1,2)(0,0,0)[0]             : AIC=11815.992, Time=0.33 sec\n",
      " ARIMA(2,1,1)(0,0,0)[0]             : AIC=11815.183, Time=0.19 sec\n",
      " ARIMA(3,1,2)(0,0,0)[0]             : AIC=11815.977, Time=0.47 sec\n",
      " ARIMA(2,1,3)(0,0,0)[0]             : AIC=11812.608, Time=0.92 sec\n",
      " ARIMA(1,1,1)(0,0,0)[0]             : AIC=11816.097, Time=0.24 sec\n",
      " ARIMA(1,1,3)(0,0,0)[0]             : AIC=11817.168, Time=0.53 sec\n",
      " ARIMA(3,1,1)(0,0,0)[0]             : AIC=11814.237, Time=0.38 sec\n",
      " ARIMA(3,1,3)(0,0,0)[0]             : AIC=inf, Time=1.64 sec\n",
      "\n",
      "Best model:  ARIMA(2,1,2)(0,0,0)[0]          \n",
      "Total fit time: 13.604 seconds\n",
      "ARIMA - MAE: 34.16, RMSE: 42.17, MAPE: nan%\n"
     ]
    }
   ],
   "source": [
    "ts_forecasting.train_arima()"
   ]
  },
  {
   "cell_type": "markdown",
   "metadata": {},
   "source": [
    "Train and Evaluate SARIMA Model"
   ]
  },
  {
   "cell_type": "code",
   "execution_count": 5,
   "metadata": {},
   "outputs": [
    {
     "name": "stdout",
     "output_type": "stream",
     "text": [
      "Performing stepwise search to minimize aic\n",
      " ARIMA(2,1,2)(1,0,1)[12] intercept   : AIC=11799.591, Time=3.28 sec\n",
      " ARIMA(0,1,0)(0,0,0)[12] intercept   : AIC=11884.552, Time=0.02 sec\n",
      " ARIMA(1,1,0)(1,0,0)[12] intercept   : AIC=11827.898, Time=0.37 sec\n",
      " ARIMA(0,1,1)(0,0,1)[12] intercept   : AIC=11819.065, Time=0.54 sec\n",
      " ARIMA(0,1,0)(0,0,0)[12]             : AIC=11883.249, Time=0.03 sec\n",
      " ARIMA(2,1,2)(0,0,1)[12] intercept   : AIC=11805.177, Time=2.60 sec\n",
      " ARIMA(2,1,2)(1,0,0)[12] intercept   : AIC=11804.257, Time=2.95 sec\n",
      " ARIMA(2,1,2)(2,0,1)[12] intercept   : AIC=11784.117, Time=8.91 sec\n",
      " ARIMA(2,1,2)(2,0,0)[12] intercept   : AIC=11784.404, Time=7.46 sec\n",
      " ARIMA(2,1,2)(2,0,2)[12] intercept   : AIC=11787.368, Time=12.81 sec\n",
      " ARIMA(2,1,2)(1,0,2)[12] intercept   : AIC=11785.027, Time=9.27 sec\n",
      " ARIMA(1,1,2)(2,0,1)[12] intercept   : AIC=11796.931, Time=5.50 sec\n",
      " ARIMA(2,1,1)(2,0,1)[12] intercept   : AIC=11796.561, Time=3.36 sec\n",
      " ARIMA(3,1,2)(2,0,1)[12] intercept   : AIC=11798.356, Time=7.64 sec\n",
      " ARIMA(2,1,3)(2,0,1)[12] intercept   : AIC=11789.995, Time=11.11 sec\n",
      " ARIMA(1,1,1)(2,0,1)[12] intercept   : AIC=11796.023, Time=4.75 sec\n",
      " ARIMA(1,1,3)(2,0,1)[12] intercept   : AIC=11797.762, Time=7.40 sec\n",
      " ARIMA(3,1,1)(2,0,1)[12] intercept   : AIC=11796.359, Time=13.98 sec\n",
      " ARIMA(3,1,3)(2,0,1)[12] intercept   : AIC=11787.299, Time=11.46 sec\n",
      " ARIMA(2,1,2)(2,0,1)[12]             : AIC=11782.555, Time=4.48 sec\n",
      " ARIMA(2,1,2)(1,0,1)[12]             : AIC=11798.034, Time=2.80 sec\n",
      " ARIMA(2,1,2)(2,0,0)[12]             : AIC=11782.806, Time=3.24 sec\n",
      " ARIMA(2,1,2)(2,0,2)[12]             : AIC=11787.897, Time=7.23 sec\n",
      " ARIMA(2,1,2)(1,0,0)[12]             : AIC=11802.804, Time=1.79 sec\n",
      " ARIMA(2,1,2)(1,0,2)[12]             : AIC=11783.059, Time=4.48 sec\n",
      " ARIMA(1,1,2)(2,0,1)[12]             : AIC=11795.368, Time=1.72 sec\n",
      " ARIMA(2,1,1)(2,0,1)[12]             : AIC=11795.002, Time=1.28 sec\n",
      " ARIMA(3,1,2)(2,0,1)[12]             : AIC=11796.719, Time=3.18 sec\n",
      " ARIMA(2,1,3)(2,0,1)[12]             : AIC=11788.779, Time=4.77 sec\n",
      " ARIMA(1,1,1)(2,0,1)[12]             : AIC=11794.433, Time=1.80 sec\n",
      " ARIMA(1,1,3)(2,0,1)[12]             : AIC=11796.131, Time=3.12 sec\n",
      " ARIMA(3,1,1)(2,0,1)[12]             : AIC=11794.722, Time=3.57 sec\n",
      " ARIMA(3,1,3)(2,0,1)[12]             : AIC=11786.117, Time=6.99 sec\n",
      "\n",
      "Best model:  ARIMA(2,1,2)(2,0,1)[12]          \n",
      "Total fit time: 166.810 seconds\n",
      "SARIMA - MAE: 35.08, RMSE: 43.69, MAPE: nan%\n"
     ]
    }
   ],
   "source": [
    "ts_forecasting.train_sarima()"
   ]
  },
  {
   "cell_type": "markdown",
   "metadata": {},
   "source": [
    "Train and Evaluate LSTM Model"
   ]
  },
  {
   "cell_type": "code",
   "execution_count": null,
   "metadata": {},
   "outputs": [],
   "source": [
    "ts_forecasting.build_lstm()"
   ]
  },
  {
   "cell_type": "markdown",
   "metadata": {},
   "source": [
    "Plot the Actual vs Predicted Values"
   ]
  },
  {
   "cell_type": "code",
   "execution_count": null,
   "metadata": {},
   "outputs": [],
   "source": [
    "ts_forecasting.plot_results()"
   ]
  },
  {
   "cell_type": "markdown",
   "metadata": {},
   "source": [
    "Summary of Results"
   ]
  },
  {
   "cell_type": "code",
   "execution_count": null,
   "metadata": {},
   "outputs": [],
   "source": [
    "for model_name, predictions in ts_forecasting.predictions.items():\n",
    "    mae, rmse, mape = ts_forecasting.evaluate(ts_forecasting.test['Close'], predictions)\n",
    "    print(f\"{model_name} - MAE: {mae:.2f}, RMSE: {rmse:.2f}, MAPE: {mape:.2f}%\")"
   ]
  }
 ],
 "metadata": {
  "language_info": {
   "name": "python"
  }
 },
 "nbformat": 4,
 "nbformat_minor": 2
}
